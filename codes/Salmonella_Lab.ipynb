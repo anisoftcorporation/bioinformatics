{
 "cells": [
  {
   "cell_type": "code",
   "execution_count": 1,
   "id": "178e2361-8588-4786-9ba0-a0a9d33bf397",
   "metadata": {},
   "outputs": [],
   "source": [
    "from functions import *\n",
    "from importlib import reload\n",
    "from collections import defaultdict\n"
   ]
  },
  {
   "cell_type": "code",
   "execution_count": 2,
   "id": "c70fed69-5c64-43e7-877f-328514f0fbeb",
   "metadata": {},
   "outputs": [],
   "source": [
    "############## Load E.Coli Genome##############\n",
    "input_file = \"inputs/Salmonella_enterica.txt\"\n",
    "linecount = 0\n",
    "genome = ''\n",
    "with open (input_file,'r') as file:\n",
    "    for line in file:\n",
    "        if linecount == 0:\n",
    "            genome = line.strip()"
   ]
  },
  {
   "cell_type": "code",
   "execution_count": 3,
   "id": "709acd2e-4727-4e4c-9b13-d3efec04c359",
   "metadata": {},
   "outputs": [
    {
     "data": {
      "image/png": "[encoded data removed]",
      "text/plain": [
       "<Figure size 432x288 with 1 Axes>"
      ]
     },
     "metadata": {
      "needs_background": "light"
     },
     "output_type": "display_data"
    }
   ],
   "source": [
    "#####Draw Skew graph for E.Coli\n",
    "DrawSkew(genome)"
   ]
  },
  {
   "cell_type": "code",
   "execution_count": 4,
   "id": "ef77e3e3-9845-429e-9e06-7baeee11d94e",
   "metadata": {},
   "outputs": [
    {
     "name": "stdout",
     "output_type": "stream",
     "text": [
      "3764856 3764858\n"
     ]
    }
   ],
   "source": [
    "########Find Minimum Skew Points in Salmonella genome\n",
    "minSkew = MinimumSkew(genome)\n",
    "print(minSkew)"
   ]
  },
  {
   "cell_type": "markdown",
   "id": "752f379d-de1b-43d1-978c-e423b8c04195",
   "metadata": {},
   "source": [
    "Found Minimum Skew at positions 3764856 3764858 , we will start at 3764856 and create a smaller window of 500 neucleotides from the whole genome and will find most frequent 9-mers with 1 mismatch and reverse compliments "
   ]
  },
  {
   "cell_type": "code",
   "execution_count": 5,
   "id": "1a3efdd2-cbc8-4764-b6b1-998c5a409efd",
   "metadata": {},
   "outputs": [
    {
     "name": "stdout",
     "output_type": "stream",
     "text": [
      "5\n",
      "CCCGGATCC GGATCCGGG CGGATCCGG CCGGATCCG GGATCCTGG CCAGGATCC\n"
     ]
    }
   ],
   "source": [
    "\n",
    "start_index = 3764856\n",
    "window_size = 500\n",
    "window1 = genome[start_index:start_index+window_size]\n",
    "k = 9\n",
    "d = 1\n",
    "result = FrequentWordsWithMismatchesRC(window1,k, d)\n",
    "print(\" \".join(result))"
   ]
  },
  {
   "cell_type": "markdown",
   "id": "876fe358-011c-4c5b-9c46-90e689fee516",
   "metadata": {},
   "source": [
    "We found the experimentally confirmed Ori TTATCCACA and its reverse compliment TGTGGATAA in the most frequent 9-mer with 1-d mismatch "
   ]
  },
  {
   "cell_type": "code",
   "execution_count": null,
   "id": "dcbdb7b9-2228-440d-b739-0553e8e3dec1",
   "metadata": {},
   "outputs": [],
   "source": []
  }
 ],
 "metadata": {
  "kernelspec": {
   "display_name": "Python 3 (ipykernel)",
   "language": "python",
   "name": "python3"
  },
  "language_info": {
   "codemirror_mode": {
    "name": "ipython",
    "version": 3
   },
   "file_extension": ".py",
   "mimetype": "text/x-python",
   "name": "python",
   "nbconvert_exporter": "python",
   "pygments_lexer": "ipython3",
   "version": "3.9.7"
  }
 },
 "nbformat": 4,
 "nbformat_minor": 5
}
