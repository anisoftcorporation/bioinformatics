{
 "cells": [
  {
   "cell_type": "code",
   "execution_count": 53,
   "id": "8409b129-d11d-45db-881e-2544f1b98125",
   "metadata": {},
   "outputs": [
    {
     "data": {
      "text/plain": [
       "<module 'functions' from '/Users/anirbanbhattacharya/Documents/GitHub/bioinformatics/codes/functions.py'>"
      ]
     },
     "execution_count": 53,
     "metadata": {},
     "output_type": "execute_result"
    }
   ],
   "source": [
    "from collections import defaultdict\n",
    "import importlib\n",
    "from functions import *\n",
    "importlib.reload(functions)\n"
   ]
  },
  {
   "cell_type": "code",
   "execution_count": 48,
   "id": "7e64bb58-9521-4783-a78b-e8d03a4c8a6b",
   "metadata": {},
   "outputs": [],
   "source": []
  },
  {
   "cell_type": "code",
   "execution_count": 52,
   "id": "c1f26c3f-2911-4540-b7a8-5ea2c46a55fb",
   "metadata": {},
   "outputs": [
    {
     "name": "stdout",
     "output_type": "stream",
     "text": [
      "CTCGTCT AGACGAG\n"
     ]
    }
   ],
   "source": [
    "#####Finding FrequentWordsWithMismatch\n",
    "\n",
    "\n",
    "\n",
    "input_file = \"inputs/inputs.txt\"\n",
    "linecount = 0\n",
    "text =''\n",
    "k=0\n",
    "d = 0\n",
    "try:\n",
    "    with open (input_file,'r') as file:\n",
    "        for line in file:\n",
    "            if linecount == 0:\n",
    "                     text = line\n",
    "            elif linecount == 1:\n",
    "                     k = (int)(line.strip())\n",
    "            else:\n",
    "                     d = (int)(line.strip())\n",
    "           \n",
    "                     \n",
    "            linecount = linecount + 1\n",
    "except:\n",
    "    print('Error reading file')\n",
    "\n",
    "\n",
    "result = FrequentWordsWithMismatchesRCNew(text.strip(),k, d)\n",
    "print(\" \".join(result))"
   ]
  },
  {
   "cell_type": "code",
   "execution_count": 69,
   "id": "697d431a-9717-438f-9803-48366caf4d34",
   "metadata": {},
   "outputs": [
    {
     "name": "stdout",
     "output_type": "stream",
     "text": [
      "43\n"
     ]
    }
   ],
   "source": [
    "print(HammingDistance(\"CTTGAAGTGGACCTCTAGTTCCTCTACAAAGAACAGGTTGACCTGTCGCGAAG\",\"ATGCCTTACCTAGATGCAATGACGGACGTATTCCTTTTGCCTCAACGGCTCCT\"))"
   ]
  },
  {
   "cell_type": "code",
   "execution_count": 70,
   "id": "dd5528a5-93c4-4969-b42c-780ad45295aa",
   "metadata": {},
   "outputs": [
    {
     "name": "stdout",
     "output_type": "stream",
     "text": [
      "[0, 1, 0, 0, 0, 0, -1, -1, -2, -2, -2, -3, -4, -5, -5, -4, -4, -4, -3, -2, -2, -2, -3, -3, -2]\n",
      "1\n"
     ]
    }
   ],
   "source": [
    "def MaximumSkew(pattern):\n",
    "    pattern_len = len(pattern)\n",
    "    max_skew_pos = list()\n",
    "    max_skew_val = -99\n",
    "    skew = list()\n",
    "    skew.insert(0,0)\n",
    "    index = 0\n",
    "    while index < pattern_len:\n",
    "      \n",
    "      cur = pattern[index]\n",
    "      skew_index = index+1\n",
    "      \n",
    "      \n",
    "      if cur == 'C':\n",
    "            skew.insert(skew_index,skew[index]-1)\n",
    "            \n",
    "      elif cur == 'G':\n",
    "            skew.insert(skew_index,skew[index]+1)\n",
    "            \n",
    "      else:\n",
    "            skew.insert(skew_index,skew[index])\n",
    "      if skew[skew_index] == max_skew_val:\n",
    "             max_skew_pos.append(skew_index)\n",
    "      elif skew[skew_index] > max_skew_val:\n",
    "            max_skew_val = skew[skew_index]\n",
    "            max_skew_pos = list()\n",
    "            max_skew_pos.append(skew_index)\n",
    "      index = index+1\n",
    "    result = \" \".join(map(str,max_skew_pos))\n",
    "    print(skew)\n",
    "    return result\n",
    "\n",
    "print(MaximumSkew(\"GCATACACTTCCCAGTAGGTACTG\"))\n"
   ]
  },
  {
   "cell_type": "code",
   "execution_count": 71,
   "id": "3fc2774c-5dd6-4ed9-aa64-ecc65d4aa29e",
   "metadata": {},
   "outputs": [
    {
     "name": "stdout",
     "output_type": "stream",
     "text": [
      "13\n"
     ]
    }
   ],
   "source": [
    "print(ApproximatePatternCount(\"TACGCATTACAAAGCACA\",\"AA\",1))"
   ]
  },
  {
   "cell_type": "code",
   "execution_count": 72,
   "id": "f8da8a0b-b566-41f3-bcc3-e72f9979fcbd",
   "metadata": {},
   "outputs": [
    {
     "name": "stdout",
     "output_type": "stream",
     "text": [
      "['CCAGTCAATT', 'CCAGTCAATA', 'CCAGTCAATC', 'CCAGTCATTG', 'CCAGTCTATG', 'CCAGTTAATG', 'CCAGTAAATG', 'CCATTCAATG', 'CCAATCAATG', 'CCACTCAATG', 'CCTGTCAATG', 'CTAGTCAATG', 'CAAGTCAATG', 'TCAGTCAATG', 'ACAGTCAATG', 'CCAGTCAATG', 'GCAGTCAATG', 'CGAGTCAATG', 'CCCGTCAATG', 'CCGGTCAATG', 'CCAGACAATG', 'CCAGCCAATG', 'CCAGGCAATG', 'CCAGTGAATG', 'CCAGTCCATG', 'CCAGTCGATG', 'CCAGTCACTG', 'CCAGTCAGTG', 'CCAGTCAAAG', 'CCAGTCAACG', 'CCAGTCAAGG']\n",
      "31\n"
     ]
    }
   ],
   "source": [
    "nbrs = Neighbors(\"CCAGTCAATG\",1)\n",
    "print(nbrs)\n",
    "print(len(nbrs))"
   ]
  },
  {
   "cell_type": "code",
   "execution_count": null,
   "id": "c8c9296f-0f5f-436e-8090-7b561f88a7ef",
   "metadata": {},
   "outputs": [],
   "source": []
  }
 ],
 "metadata": {
  "kernelspec": {
   "display_name": "Python 3 (ipykernel)",
   "language": "python",
   "name": "python3"
  },
  "language_info": {
   "codemirror_mode": {
    "name": "ipython",
    "version": 3
   },
   "file_extension": ".py",
   "mimetype": "text/x-python",
   "name": "python",
   "nbconvert_exporter": "python",
   "pygments_lexer": "ipython3",
   "version": "3.9.7"
  }
 },
 "nbformat": 4,
 "nbformat_minor": 5
}
