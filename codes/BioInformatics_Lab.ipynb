{
 "cells": [
  {
   "cell_type": "code",
   "execution_count": 31,
   "id": "ed7c93a1-1c2f-497f-b8a1-6a171cc1bef3",
   "metadata": {},
   "outputs": [],
   "source": [
    "def PatternCount(text,pattern):\n",
    "    count = 0\n",
    "    pattern_len = len(pattern)\n",
    "    text_len = len(text)\n",
    "    #print(text_len)\n",
    "    #print(pattern_len)\n",
    "    index = 0\n",
    "    while index < (text_len - pattern_len):\n",
    "        data = text[index:(index+len(pattern))]\n",
    "        #print(data)\n",
    "        if data == pattern:\n",
    "            count = count+1\n",
    "        index = index+1\n",
    "    return count\n",
    "\n",
    "def FrequencyTable(text,k):\n",
    "    frequencyMap = {}\n",
    "    index = 0\n",
    "    text_len = len(text)\n",
    "    while index < (text_len - k):\n",
    "        pattern = text[index:index+k]\n",
    "        if frequencyMap.get(pattern) is not None:\n",
    "            old_value = frequencyMap.get(pattern)\n",
    "            new_value = old_value + 1\n",
    "            frequencyMap[pattern] = new_value\n",
    "        else:\n",
    "            frequencyMap[pattern] = 1\n",
    "        index = index+1\n",
    "    return frequencyMap\n",
    "\n",
    "def MaxMap(frequencyMap):\n",
    "    maxvalue = max(frequencyMap.values())\n",
    "    return maxvalue\n",
    "\n",
    "def BetterFrequentWords(text,k):\n",
    "    table = FrequencyTable(text,k)\n",
    "    maxvalue = MaxMap(table)\n",
    "    maxcount = 0 \n",
    "    pattern_list = ''\n",
    "    print(table)\n",
    "    print(maxvalue)\n",
    "    for key in table:\n",
    "        if table[key] == maxvalue:\n",
    "            pattern_list = pattern_list +\" \"+ key\n",
    "            \n",
    "    return pattern_list"
   ]
  },
  {
   "cell_type": "code",
   "execution_count": 40,
   "id": "9d587138-8cc4-41cb-9943-e323be9fee82",
   "metadata": {},
   "outputs": [
    {
     "name": "stdout",
     "output_type": "stream",
     "text": [
      "{'TATGTAATGCTG': 7, 'ATGTAATGCTGG': 7, 'TGTAATGCTGGT': 7, 'GTAATGCTGGTC': 7, 'TAATGCTGGTCA': 7, 'AATGCTGGTCAT': 3, 'ATGCTGGTCATA': 3, 'TGCTGGTCATAT': 3, 'GCTGGTCATATG': 3, 'CTGGTCATATGT': 7, 'TGGTCATATGTA': 7, 'GGTCATATGTAA': 7, 'GTCATATGTAAT': 7, 'TCATATGTAATG': 7, 'CATATGTAATGC': 3, 'ATATGTAATGCC': 3, 'TATGTAATGCCC': 4, 'ATGTAATGCCCC': 4, 'TGTAATGCCCCA': 4, 'GTAATGCCCCAG': 4, 'TAATGCCCCAGC': 4, 'AATGCCCCAGCC': 3, 'ATGCCCCAGCCT': 3, 'TGCCCCAGCCTG': 3, 'GCCCCAGCCTGG': 3, 'CCCCAGCCTGGT': 7, 'CCCAGCCTGGTC': 7, 'CCAGCCTGGTCA': 7, 'CAGCCTGGTCAC': 3, 'AGCCTGGTCACC': 3, 'GCCTGGTCACCC': 3, 'CCTGGTCACCCC': 3, 'CTGGTCACCCCA': 7, 'TGGTCACCCCAG': 7, 'GGTCACCCCAGC': 7, 'GTCACCCCAGCG': 1, 'TCACCCCAGCGC': 1, 'CACCCCAGCGCC': 1, 'ACCCCAGCGCCA': 3, 'CCCCAGCGCCAC': 7, 'CCCAGCGCCACT': 7, 'CCAGCGCCACTA': 7, 'CAGCGCCACTAC': 4, 'AGCGCCACTACT': 4, 'GCGCCACTACTG': 4, 'CGCCACTACTGG': 4, 'GCCACTACTGGT': 7, 'CCACTACTGGTC': 7, 'CACTACTGGTCA': 7, 'ACTACTGGTCAA': 4, 'CTACTGGTCAAC': 4, 'TACTGGTCAACA': 4, 'ACTGGTCAACAA': 4, 'CTGGTCAACAAT': 6, 'TGGTCAACAATG': 6, 'GGTCAACAATGC': 6, 'GTCAACAATGCT': 6, 'TCAACAATGCTA': 1, 'CAACAATGCTAC': 1, 'AACAATGCTACA': 2, 'ACAATGCTACAA': 3, 'CAATGCTACAAT': 3, 'AATGCTACAATG': 3, 'ATGCTACAATGC': 3, 'TGCTACAATGCT': 3, 'GCTACAATGCTT': 1, 'CTACAATGCTTA': 1, 'TACAATGCTTAT': 1, 'ACAATGCTTATG': 5, 'CAATGCTTATGT': 5, 'AATGCTTATGTA': 5, 'ATGCTTATGTAA': 5, 'TGCTTATGTAAT': 5, 'GCTTATGTAATG': 5, 'CTTATGTAATGA': 1, 'TTATGTAATGAC': 1, 'TATGTAATGACA': 3, 'ATGTAATGACAA': 3, 'TGTAATGACAAT': 3, 'GTAATGACAATG': 3, 'TAATGACAATGC': 3, 'AATGACAATGCT': 3, 'ATGACAATGCTT': 1, 'TGACAATGCTTA': 1, 'GACAATGCTTAT': 1, 'CTTATGTAATGT': 1, 'TTATGTAATGTA': 1, 'TATGTAATGTAT': 6, 'ATGTAATGTATG': 6, 'TGTAATGTATGT': 6, 'GTAATGTATGTA': 6, 'TAATGTATGTAA': 6, 'AATGTATGTAAT': 6, 'ATGTATGTAATG': 6, 'TGTATGTAATGG': 1, 'GTATGTAATGGC': 1, 'TATGTAATGGCC': 4, 'ATGTAATGGCCA': 4, 'TGTAATGGCCAC': 4, 'GTAATGGCCACT': 4, 'TAATGGCCACTA': 4, 'AATGGCCACTAA': 2, 'ATGGCCACTAAC': 2, 'TGGCCACTAACA': 2, 'GGCCACTAACAA': 2, 'GCCACTAACAAT': 5, 'CCACTAACAATG': 5, 'CACTAACAATGC': 5, 'ACTAACAATGCT': 5, 'CTAACAATGCTC': 2, 'TAACAATGCTCT': 1, 'AACAATGCTCTG': 2, 'ACAATGCTCTGG': 3, 'CAATGCTCTGGT': 3, 'AATGCTCTGGTC': 3, 'ATGCTCTGGTCA': 3, 'TGCTCTGGTCAC': 1, 'GCTCTGGTCACT': 1, 'CTCTGGTCACTG': 1, 'TCTGGTCACTGG': 1, 'CTGGTCACTGGT': 4, 'TGGTCACTGGTC': 4, 'GGTCACTGGTCA': 4, 'GTCACTGGTCAT': 1, 'TCACTGGTCATA': 1, 'CACTGGTCATAT': 1, 'ACTGGTCATATG': 2, 'AATGCCCCAGCG': 1, 'ATGCCCCAGCGC': 1, 'TGCCCCAGCGCC': 1, 'GCCCCAGCGCCA': 1, 'TCAACAATGCTC': 3, 'CAACAATGCTCT': 1, 'TGCTCTGGTCAT': 1, 'GCTCTGGTCATA': 1, 'CTCTGGTCATAT': 1, 'TCTGGTCATATG': 1, 'CATATGTAATGG': 1, 'ATATGTAATGGC': 1, 'AATGGCCACTAC': 2, 'ATGGCCACTACT': 2, 'TGGCCACTACTG': 2, 'GGCCACTACTGG': 2, 'ACTACTGGTCAT': 1, 'CTACTGGTCATA': 1, 'TACTGGTCATAT': 1, 'CATATGTAATGT': 2, 'ATATGTAATGTA': 3, 'TGTATGTAATGC': 3, 'GTATGTAATGCT': 3, 'AATGCTGGTCAC': 3, 'ATGCTGGTCACT': 1, 'TGCTGGTCACTG': 1, 'GCTGGTCACTGG': 1, 'GTCACTGGTCAC': 2, 'TCACTGGTCACC': 2, 'CACTGGTCACCC': 2, 'ACTGGTCACCCC': 2, 'GTCACCCCAGCC': 4, 'TCACCCCAGCCC': 3, 'CACCCCAGCCCC': 3, 'ACCCCAGCCCCC': 3, 'CCCCAGCCCCCA': 4, 'CCCAGCCCCCAG': 4, 'CCAGCCCCCAGC': 4, 'CAGCCCCCAGCC': 2, 'AGCCCCCAGCCT': 2, 'GCCCCCAGCCTG': 2, 'CCCCCAGCCTGG': 2, 'GTCACCCCAGCT': 1, 'TCACCCCAGCTA': 1, 'CACCCCAGCTAT': 1, 'ACCCCAGCTATG': 1, 'CCCCAGCTATGT': 2, 'CCCAGCTATGTA': 2, 'CCAGCTATGTAA': 2, 'CAGCTATGTAAT': 2, 'AGCTATGTAATG': 2, 'GCTATGTAATGT': 1, 'CTATGTAATGTA': 1, 'TGTATGTAATGT': 1, 'GTATGTAATGTA': 1, 'ATGCTGGTCACC': 2, 'TGCTGGTCACCC': 2, 'GCTGGTCACCCC': 2, 'TCACCCCAGCCT': 1, 'CACCCCAGCCTG': 1, 'ACCCCAGCCTGG': 1, 'CAGCCTGGTCAT': 1, 'AGCCTGGTCATA': 1, 'GCCTGGTCATAT': 1, 'CCTGGTCATATG': 1, 'CAGCCTGGTCAA': 1, 'AGCCTGGTCAAC': 1, 'GCCTGGTCAACA': 1, 'CCTGGTCAACAA': 1, 'CAACAATGCTCC': 2, 'AACAATGCTCCC': 3, 'ACAATGCTCCCC': 5, 'CAATGCTCCCCA': 5, 'AATGCTCCCCAG': 5, 'ATGCTCCCCAGC': 5, 'TGCTCCCCAGCT': 1, 'GCTCCCCAGCTA': 1, 'CTCCCCAGCTAT': 1, 'TCCCCAGCTATG': 1, 'GCTATGTAATGG': 1, 'CTATGTAATGGC': 1, 'ACTACTGGTCAC': 2, 'CTACTGGTCACT': 2, 'TACTGGTCACTG': 2, 'ACTGGTCACTGG': 2, 'CAGCCCCCAGCG': 2, 'AGCCCCCAGCGC': 2, 'GCCCCCAGCGCC': 2, 'CCCCCAGCGCCA': 2, 'TGCTCCCCAGCC': 2, 'GCTCCCCAGCCC': 1, 'CTCCCCAGCCCC': 1, 'TCCCCAGCCCCC': 1, 'CAGCGCCACTAT': 1, 'AGCGCCACTATA': 1, 'GCGCCACTATAT': 1, 'CGCCACTATATG': 1, 'GCCACTATATGT': 3, 'CCACTATATGTA': 3, 'CACTATATGTAA': 3, 'ACTATATGTAAT': 3, 'CTATATGTAATG': 3, 'TATATGTAATGC': 2, 'ATATGTAATGCT': 2, 'TGTATGTAATGA': 1, 'GTATGTAATGAC': 1, 'ATGACAATGCTA': 1, 'TGACAATGCTAC': 1, 'GACAATGCTACA': 1, 'GCTACAATGCTC': 1, 'CTACAATGCTCC': 1, 'TACAATGCTCCC': 1, 'TGCTCCCCAGCA': 1, 'GCTCCCCAGCAC': 1, 'CTCCCCAGCACA': 1, 'TCCCCAGCACAA': 1, 'CCCCAGCACAAT': 3, 'CCCAGCACAATG': 3, 'CCAGCACAATGC': 3, 'CAGCACAATGCT': 3, 'AGCACAATGCTC': 1, 'GCACAATGCTCC': 1, 'CACAATGCTCCC': 1, 'TGCTCCCCAGCG': 1, 'GCTCCCCAGCGC': 1, 'CTCCCCAGCGCC': 1, 'TCCCCAGCGCCA': 1, 'CAGCGCCACTAA': 1, 'AGCGCCACTAAC': 1, 'GCGCCACTAACA': 1, 'CGCCACTAACAA': 1, 'TAACAATGCTCC': 1, 'GCTCCCCAGCCT': 1, 'CTCCCCAGCCTG': 1, 'TCCCCAGCCTGG': 1, 'CAGCCTGGTCAG': 1, 'AGCCTGGTCAGC': 1, 'GCCTGGTCAGCC': 1, 'CCTGGTCAGCCA': 1, 'CTGGTCAGCCAC': 3, 'TGGTCAGCCACT': 3, 'GGTCAGCCACTA': 3, 'GTCAGCCACTAG': 1, 'TCAGCCACTAGC': 1, 'CAGCCACTAGCC': 1, 'AGCCACTAGCCA': 1, 'GCCACTAGCCAC': 3, 'CCACTAGCCACT': 3, 'CACTAGCCACTA': 3, 'ACTAGCCACTAC': 2, 'CTAGCCACTACC': 2, 'TAGCCACTACCC': 2, 'AGCCACTACCCC': 3, 'GCCACTACCCCA': 3, 'CCACTACCCCAG': 3, 'CACTACCCCAGC': 3, 'ACTACCCCAGCG': 2, 'CTACCCCAGCGC': 2, 'TACCCCAGCGCC': 2, 'GTCACTGGTCAG': 1, 'TCACTGGTCAGC': 1, 'CACTGGTCAGCC': 1, 'ACTGGTCAGCCA': 1, 'GTCAGCCACTAA': 1, 'TCAGCCACTAAC': 1, 'CAGCCACTAACA': 1, 'AGCCACTAACAA': 2, 'CTAACAATGCTT': 1, 'TAACAATGCTTA': 1, 'AACAATGCTTAT': 2, 'CTTATGTAATGC': 2, 'TTATGTAATGCT': 1, 'AATGCTGGTCAG': 1, 'ATGCTGGTCAGC': 1, 'TGCTGGTCAGCC': 1, 'GCTGGTCAGCCA': 1, 'GTCAGCCACTAC': 1, 'TCAGCCACTACC': 1, 'CAGCCACTACCC': 1, 'CAGCGCCACTAG': 1, 'AGCGCCACTAGC': 1, 'GCGCCACTAGCC': 1, 'CGCCACTAGCCA': 1, 'ACTACCCCAGCA': 1, 'CTACCCCAGCAC': 1, 'TACCCCAGCACA': 1, 'ACCCCAGCACAA': 2, 'AGCACAATGCTG': 1, 'GCACAATGCTGC': 1, 'CACAATGCTGCC': 1, 'ACAATGCTGCCA': 4, 'CAATGCTGCCAC': 4, 'AATGCTGCCACT': 4, 'ATGCTGCCACTA': 4, 'TGCTGCCACTAG': 1, 'GCTGCCACTAGC': 1, 'CTGCCACTAGCC': 1, 'TGCCACTAGCCA': 1, 'ACTAGCCACTAA': 1, 'CTAGCCACTAAC': 1, 'TAGCCACTAACA': 1, 'CTAACAATGCTA': 1, 'TAACAATGCTAC': 1, 'GCTACAATGCTG': 1, 'CTACAATGCTGC': 1, 'TACAATGCTGCC': 1, 'TGCTGCCACTAT': 2, 'GCTGCCACTATA': 2, 'CTGCCACTATAT': 2, 'TGCCACTATATG': 2, 'CATATGTAATGA': 1, 'ATATGTAATGAC': 1, 'ATGACAATGCTC': 1, 'TGACAATGCTCT': 1, 'GACAATGCTCTG': 1, 'TGCTCTGGTCAA': 1, 'GCTCTGGTCAAC': 1, 'CTCTGGTCAACA': 1, 'TCTGGTCAACAA': 1, 'TCAACAATGCTG': 1, 'CAACAATGCTGC': 1, 'AACAATGCTGCC': 2, 'TATATGTAATGT': 1, 'GTCACCCCAGCA': 1, 'TCACCCCAGCAC': 1, 'CACCCCAGCACA': 1, 'AGCACAATGCTT': 1, 'GCACAATGCTTA': 1, 'CACAATGCTTAT': 1, 'CTTATGTAATGG': 1, 'TTATGTAATGGC': 1, 'CTAACAATGCTG': 1, 'TAACAATGCTGC': 1, 'TGCTGCCACTAC': 1, 'GCTGCCACTACT': 1, 'CTGCCACTACTG': 1, 'TGCCACTACTGG': 1, 'TCAACAATGCTT': 1, 'CAACAATGCTTA': 1, 'TTATGTAATGCC': 1}\n",
      "7\n",
      " TATGTAATGCTG ATGTAATGCTGG TGTAATGCTGGT GTAATGCTGGTC TAATGCTGGTCA CTGGTCATATGT TGGTCATATGTA GGTCATATGTAA GTCATATGTAAT TCATATGTAATG CCCCAGCCTGGT CCCAGCCTGGTC CCAGCCTGGTCA CTGGTCACCCCA TGGTCACCCCAG GGTCACCCCAGC CCCCAGCGCCAC CCCAGCGCCACT CCAGCGCCACTA GCCACTACTGGT CCACTACTGGTC CACTACTGGTCA\n"
     ]
    }
   ],
   "source": [
    "\n",
    "\n",
    "input_file = \"input.txt\"\n",
    "linecount = 0\n",
    "text =''\n",
    "k = 0\n",
    "\n",
    "try:\n",
    "    with open (input_file,'r') as file:\n",
    "        for line in file:\n",
    "            if linecount == 0:\n",
    "                     text = line\n",
    "            else:\n",
    "                     k = int(line)\n",
    "            linecount = linecount + 1\n",
    "except:\n",
    "    print('Error reading file')\n",
    "\n",
    "print(BetterFrequentWords(text,k))\n",
    "\n",
    "    \n"
   ]
  },
  {
   "cell_type": "code",
   "execution_count": 27,
   "id": "bdae71ab-f9c5-4e6d-aa3a-428938990e3a",
   "metadata": {},
   "outputs": [
    {
     "name": "stdout",
     "output_type": "stream",
     "text": [
      "{'ACGT': 1, 'CGTT': 1, 'GTTG': 1, 'TTGC': 1, 'TGCA': 2, 'GCAT': 3, 'CATG': 3, 'ATGT': 1, 'TGTC': 1, 'GTCG': 1, 'TCGC': 1, 'CGCA': 1, 'ATGA': 2, 'TGAT': 1, 'GATG': 1, 'ATGC': 1, 'TGAG': 1, 'GAGA': 1, 'AGAG': 1, 'GAGC': 1}\n",
      "3\n",
      "GCAT CATG\n"
     ]
    }
   ],
   "source": [
    "text = \"ACGTTGCATGTCGCATGATGCATGAGAGCT\"\n",
    "k =4\n",
    "\n",
    "result = BetterFrequentWords(text,k)\n",
    "print(result)"
   ]
  },
  {
   "cell_type": "code",
   "execution_count": null,
   "id": "b5a92f21-28c7-4a1c-bd5c-e70bd6d58ba4",
   "metadata": {},
   "outputs": [],
   "source": []
  }
 ],
 "metadata": {
  "kernelspec": {
   "display_name": "Python 3 (ipykernel)",
   "language": "python",
   "name": "python3"
  },
  "language_info": {
   "codemirror_mode": {
    "name": "ipython",
    "version": 3
   },
   "file_extension": ".py",
   "mimetype": "text/x-python",
   "name": "python",
   "nbconvert_exporter": "python",
   "pygments_lexer": "ipython3",
   "version": "3.9.7"
  }
 },
 "nbformat": 4,
 "nbformat_minor": 5
}
