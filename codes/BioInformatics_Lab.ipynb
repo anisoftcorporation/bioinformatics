{
 "cells": [
  {
   "cell_type": "code",
   "execution_count": 101,
   "id": "ed7c93a1-1c2f-497f-b8a1-6a171cc1bef3",
   "metadata": {},
   "outputs": [],
   "source": [
    "from functions import *"
   ]
  },
  {
   "cell_type": "code",
   "execution_count": 86,
   "id": "9d587138-8cc4-41cb-9943-e323be9fee82",
   "metadata": {},
   "outputs": [
    {
     "name": "stdout",
     "output_type": "stream",
     "text": [
      "{'atcaatgat': 1, 'tcaatgatc': 1, 'caatgatca': 1, 'aatgatcaa': 2, 'atgatcaac': 1, 'tgatcaacg': 1, 'gatcaacgt': 1, 'atcaacgta': 1, 'tcaacgtaa': 1, 'caacgtaag': 1, 'aacgtaagc': 1, 'acgtaagct': 1, 'cgtaagctt': 1, 'gtaagcttc': 1, 'taagcttct': 1, 'aagcttcta': 1, 'agcttctaa': 1, 'gcttctaag': 1, 'cttctaagc': 1, 'ttctaagca': 1, 'tctaagcat': 1, 'ctaagcatg': 1, 'taagcatga': 1, 'aagcatgat': 2, 'agcatgatc': 2, 'gcatgatca': 2, 'catgatcaa': 1, 'atgatcaag': 3, 'tgatcaagg': 1, 'gatcaaggt': 1, 'atcaaggtg': 1, 'tcaaggtgc': 1, 'caaggtgct': 1, 'aaggtgctc': 1, 'aggtgctca': 1, 'ggtgctcac': 1, 'gtgctcaca': 1, 'tgctcacac': 1, 'gctcacaca': 1, 'ctcacacag': 1, 'tcacacagt': 1, 'cacacagtt': 1, 'acacagttt': 1, 'cacagttta': 1, 'acagtttat': 1, 'cagtttatc': 1, 'agtttatcc': 1, 'gtttatcca': 1, 'tttatccac': 1, 'ttatccaca': 1, 'tatccacaa': 1, 'atccacaac': 1, 'tccacaacc': 1, 'ccacaacct': 1, 'cacaacctg': 1, 'acaacctga': 1, 'caacctgag': 1, 'aacctgagt': 1, 'acctgagtg': 1, 'cctgagtgg': 1, 'ctgagtgga': 1, 'tgagtggat': 1, 'gagtggatg': 1, 'agtggatga': 1, 'gtggatgac': 1, 'tggatgaca': 1, 'ggatgacat': 1, 'gatgacatc': 1, 'atgacatca': 1, 'tgacatcaa': 1, 'gacatcaag': 1, 'acatcaaga': 1, 'catcaagat': 1, 'atcaagata': 1, 'tcaagatag': 1, 'caagatagg': 1, 'aagataggt': 1, 'agataggtc': 1, 'gataggtcg': 1, 'ataggtcgt': 1, 'taggtcgtt': 1, 'aggtcgttg': 1, 'ggtcgttgt': 1, 'gtcgttgta': 1, 'tcgttgtat': 1, 'cgttgtatc': 1, 'gttgtatct': 1, 'ttgtatctc': 1, 'tgtatctcc': 1, 'gtatctcct': 1, 'tatctcctt': 1, 'atctccttc': 1, 'tctccttcc': 1, 'ctccttcct': 1, 'tccttcctc': 1, 'ccttcctct': 1, 'cttcctctc': 1, 'ttcctctcg': 1, 'tcctctcgt': 1, 'cctctcgta': 1, 'ctctcgtac': 1, 'tctcgtact': 1, 'ctcgtactc': 1, 'tcgtactct': 1, 'cgtactctc': 1, 'gtactctca': 1, 'tactctcat': 1, 'actctcatg': 1, 'ctctcatga': 1, 'tctcatgac': 1, 'ctcatgacc': 1, 'tcatgacca': 1, 'catgaccac': 1, 'atgaccacg': 1, 'tgaccacgg': 1, 'gaccacgga': 1, 'accacggaa': 1, 'ccacggaaa': 1, 'cacggaaag': 1, 'acggaaaga': 1, 'cggaaagat': 1, 'ggaaagatg': 1, 'gaaagatga': 1, 'aaagatgat': 1, 'aagatgatc': 1, 'agatgatca': 1, 'gatgatcaa': 1, 'tgatcaaga': 1, 'gatcaagag': 1, 'atcaagaga': 1, 'tcaagagag': 1, 'caagagagg': 1, 'aagagagga': 1, 'agagaggat': 1, 'gagaggatg': 1, 'agaggatga': 1, 'gaggatgat': 1, 'aggatgatt': 1, 'ggatgattt': 1, 'gatgatttc': 1, 'atgatttct': 1, 'tgatttctt': 1, 'gatttcttg': 1, 'atttcttgg': 1, 'tttcttggc': 1, 'ttcttggcc': 1, 'tcttggcca': 1, 'cttggccat': 1, 'ttggccata': 1, 'tggccatat': 1, 'ggccatatc': 1, 'gccatatcg': 1, 'ccatatcgc': 1, 'catatcgca': 1, 'atatcgcaa': 1, 'tatcgcaat': 1, 'atcgcaatg': 1, 'tcgcaatga': 1, 'cgcaatgaa': 1, 'gcaatgaat': 1, 'caatgaata': 1, 'aatgaatac': 1, 'atgaatact': 1, 'tgaatactt': 1, 'gaatacttg': 1, 'aatacttgt': 1, 'atacttgtg': 1, 'tacttgtga': 1, 'acttgtgac': 1, 'cttgtgact': 1, 'ttgtgactt': 1, 'tgtgacttg': 1, 'gtgacttgt': 1, 'tgacttgtg': 1, 'gacttgtgc': 1, 'acttgtgct': 1, 'cttgtgctt': 1, 'ttgtgcttc': 1, 'tgtgcttcc': 1, 'gtgcttcca': 1, 'tgcttccaa': 1, 'gcttccaat': 1, 'cttccaatt': 1, 'ttccaattg': 1, 'tccaattga': 1, 'ccaattgac': 1, 'caattgaca': 1, 'aattgacat': 1, 'attgacatc': 1, 'ttgacatct': 1, 'tgacatctt': 1, 'gacatcttc': 1, 'acatcttca': 1, 'catcttcag': 1, 'atcttcagc': 1, 'tcttcagcg': 1, 'cttcagcgc': 1, 'ttcagcgcc': 1, 'tcagcgcca': 1, 'cagcgccat': 1, 'agcgccata': 1, 'gcgccatat': 1, 'cgccatatt': 1, 'gccatattg': 1, 'ccatattgc': 1, 'catattgcg': 1, 'atattgcgc': 1, 'tattgcgct': 1, 'attgcgctg': 1, 'ttgcgctgg': 1, 'tgcgctggc': 1, 'gcgctggcc': 1, 'cgctggcca': 1, 'gctggccaa': 1, 'ctggccaag': 1, 'tggccaagg': 1, 'ggccaaggt': 1, 'gccaaggtg': 1, 'ccaaggtga': 1, 'caaggtgac': 1, 'aaggtgacg': 1, 'aggtgacgg': 1, 'ggtgacgga': 1, 'gtgacggag': 1, 'tgacggagc': 1, 'gacggagcg': 1, 'acggagcgg': 1, 'cggagcggg': 1, 'ggagcggga': 1, 'gagcgggat': 1, 'agcgggatt': 1, 'gcgggatta': 1, 'cgggattac': 1, 'gggattacg': 1, 'ggattacga': 1, 'gattacgaa': 1, 'attacgaaa': 1, 'ttacgaaag': 1, 'tacgaaagc': 1, 'acgaaagca': 1, 'cgaaagcat': 1, 'gaaagcatg': 1, 'aaagcatga': 1, 'catgatcat': 1, 'atgatcatg': 1, 'tgatcatgg': 1, 'gatcatggc': 1, 'atcatggct': 1, 'tcatggctg': 1, 'catggctgt': 1, 'atggctgtt': 1, 'tggctgttg': 1, 'ggctgttgt': 1, 'gctgttgtt': 1, 'ctgttgttc': 1, 'tgttgttct': 1, 'gttgttctg': 1, 'ttgttctgt': 1, 'tgttctgtt': 1, 'gttctgttt': 1, 'ttctgttta': 1, 'tctgtttat': 1, 'ctgtttatc': 1, 'tgtttatct': 1, 'gtttatctt': 1, 'tttatcttg': 1, 'ttatcttgt': 1, 'tatcttgtt': 1, 'atcttgttt': 1, 'tcttgtttt': 1, 'cttgttttg': 1, 'ttgttttga': 1, 'tgttttgac': 1, 'gttttgact': 1, 'ttttgactg': 1, 'tttgactga': 1, 'ttgactgag': 1, 'tgactgaga': 1, 'gactgagac': 1, 'actgagact': 1, 'ctgagactt': 1, 'tgagacttg': 1, 'gagacttgt': 1, 'agacttgtt': 1, 'gacttgtta': 1, 'acttgttag': 1, 'cttgttagg': 1, 'ttgttagga': 1, 'tgttaggat': 1, 'gttaggata': 1, 'ttaggatag': 1, 'taggataga': 1, 'aggatagac': 1, 'ggatagacg': 1, 'gatagacgg': 1, 'atagacggt': 1, 'tagacggtt': 1, 'agacggttt': 1, 'gacggtttt': 1, 'acggttttt': 1, 'cggtttttc': 1, 'ggtttttca': 1, 'gtttttcat': 1, 'tttttcatc': 1, 'ttttcatca': 1, 'tttcatcac': 1, 'ttcatcact': 1, 'tcatcactg': 1, 'catcactga': 1, 'atcactgac': 1, 'tcactgact': 1, 'cactgacta': 1, 'actgactag': 1, 'ctgactagc': 1, 'tgactagcc': 1, 'gactagcca': 1, 'actagccaa': 1, 'ctagccaaa': 1, 'tagccaaag': 1, 'agccaaagc': 1, 'gccaaagcc': 1, 'ccaaagcct': 1, 'caaagcctt': 1, 'aaagcctta': 1, 'aagccttac': 1, 'agccttact': 1, 'gccttactc': 1, 'ccttactct': 1, 'cttactctg': 1, 'ttactctgc': 1, 'tactctgcc': 1, 'actctgcct': 1, 'ctctgcctg': 1, 'tctgcctga': 1, 'ctgcctgac': 1, 'tgcctgaca': 1, 'gcctgacat': 1, 'cctgacatc': 1, 'ctgacatcg': 1, 'tgacatcga': 1, 'gacatcgac': 1, 'acatcgacc': 1, 'catcgaccg': 1, 'atcgaccgt': 1, 'tcgaccgta': 1, 'cgaccgtaa': 1, 'gaccgtaaa': 1, 'accgtaaat': 1, 'ccgtaaatt': 1, 'cgtaaattg': 1, 'gtaaattga': 1, 'taaattgat': 1, 'aaattgata': 1, 'aattgataa': 1, 'attgataat': 1, 'ttgataatg': 1, 'tgataatga': 1, 'gataatgaa': 1, 'ataatgaat': 1, 'taatgaatt': 1, 'aatgaattt': 1, 'atgaattta': 1, 'tgaatttac': 1, 'gaatttaca': 1, 'aatttacat': 1, 'atttacatg': 1, 'tttacatgc': 1, 'ttacatgct': 1, 'tacatgctt': 1, 'acatgcttc': 1, 'catgcttcc': 1, 'atgcttccg': 1, 'tgcttccgc': 1, 'gcttccgcg': 1, 'cttccgcga': 1, 'ttccgcgac': 1, 'tccgcgacg': 1, 'ccgcgacga': 1, 'cgcgacgat': 1, 'gcgacgatt': 1, 'cgacgattt': 1, 'gacgattta': 1, 'acgatttac': 1, 'cgatttacc': 1, 'gatttacct': 1, 'atttacctc': 1, 'tttacctct': 1, 'ttacctctt': 1, 'tacctcttg': 1, 'acctcttga': 1, 'cctcttgat': 1, 'ctcttgatc': 3, 'tcttgatca': 3, 'cttgatcat': 3, 'ttgatcatc': 2, 'tgatcatcg': 2, 'gatcatcga': 1, 'atcatcgat': 1, 'tcatcgatc': 1, 'catcgatcc': 1, 'atcgatccg': 1, 'tcgatccga': 1, 'cgatccgat': 1, 'gatccgatt': 1, 'atccgattg': 1, 'tccgattga': 1, 'ccgattgaa': 1, 'cgattgaag': 1, 'gattgaaga': 1, 'attgaagat': 1, 'ttgaagatc': 1, 'tgaagatct': 1, 'gaagatctt': 1, 'aagatcttc': 1, 'agatcttca': 1, 'gatcttcaa': 1, 'atcttcaat': 1, 'tcttcaatt': 1, 'cttcaattg': 1, 'ttcaattgt': 1, 'tcaattgtt': 1, 'caattgtta': 1, 'aattgttaa': 1, 'attgttaat': 1, 'ttgttaatt': 1, 'tgttaattc': 1, 'gttaattct': 1, 'ttaattctc': 1, 'taattctct': 1, 'aattctctt': 1, 'attctcttg': 1, 'ttctcttgc': 1, 'tctcttgcc': 1, 'ctcttgcct': 1, 'tcttgcctc': 1, 'cttgcctcg': 1, 'ttgcctcga': 1, 'tgcctcgac': 1, 'gcctcgact': 1, 'cctcgactc': 1, 'ctcgactca': 1, 'tcgactcat': 1, 'cgactcata': 1, 'gactcatag': 1, 'actcatagc': 1, 'ctcatagcc': 1, 'tcatagcca': 1, 'catagccat': 1, 'atagccatg': 1, 'tagccatga': 1, 'agccatgat': 1, 'gccatgatg': 1, 'ccatgatga': 1, 'catgatgag': 1, 'atgatgagc': 1, 'tgatgagct': 1, 'gatgagctc': 1, 'atgagctct': 1, 'tgagctctt': 1, 'gagctcttg': 1, 'agctcttga': 1, 'gctcttgat': 2, 'ttgatcatg': 1, 'tgatcatgt': 1, 'gatcatgtt': 1, 'atcatgttt': 1, 'tcatgtttc': 1, 'catgtttcc': 1, 'atgtttcct': 1, 'tgtttcctt': 1, 'gtttcctta': 1, 'tttccttaa': 1, 'ttccttaac': 1, 'tccttaacc': 1, 'ccttaaccc': 1, 'cttaaccct': 1, 'ttaaccctc': 1, 'taaccctct': 1, 'aaccctcta': 1, 'accctctat': 1, 'ccctctatt': 1, 'cctctattt': 1, 'ctctatttt': 1, 'tctattttt': 1, 'ctatttttt': 1, 'tatttttta': 1, 'attttttac': 1, 'ttttttacg': 1, 'tttttacgg': 1, 'ttttacgga': 1, 'tttacggaa': 1, 'ttacggaag': 1, 'tacggaaga': 1, 'acggaagaa': 1, 'cggaagaat': 1, 'ggaagaatg': 1, 'gaagaatga': 1, 'aagaatgat': 1, 'agaatgatc': 1, 'gaatgatca': 1, 'tgatcaagc': 1, 'gatcaagct': 1, 'atcaagctg': 1, 'tcaagctgc': 1, 'caagctgct': 1, 'aagctgctg': 1, 'agctgctgc': 1, 'gctgctgct': 1, 'ctgctgctc': 1, 'tgctgctct': 1, 'gctgctctt': 1, 'ctgctcttg': 1, 'tgctcttga': 1, 'gatcatcgt': 1, 'atcatcgtt': 1, 'tcatcgttt': 1, 'catcgtttc': 1}\n",
      "3\n",
      "atgatcaag ctcttgatc tcttgatca cttgatcat\n"
     ]
    }
   ],
   "source": [
    "\n",
    "\n",
    "input_file = \"inputs/vibrio_cholerae_9mer.txt\"\n",
    "linecount = 0\n",
    "text =''\n",
    "k = 0\n",
    "\n",
    "try:\n",
    "    with open (input_file,'r') as file:\n",
    "        for line in file:\n",
    "            if linecount == 0:\n",
    "                     text = line\n",
    "            else:\n",
    "                     k = int(line)\n",
    "            linecount = linecount + 1\n",
    "except:\n",
    "    print('Error reading file')\n",
    "\n",
    "print(BetterFrequentWords(text,k))\n",
    "\n",
    "    \n",
    "\n",
    "    "
   ]
  },
  {
   "cell_type": "code",
   "execution_count": null,
   "id": "bdae71ab-f9c5-4e6d-aa3a-428938990e3a",
   "metadata": {},
   "outputs": [],
   "source": [
    "text = \"ACGTTGCATGTCGCATGATGCATGAGAGCT\"\n",
    "k =4\n",
    "\n",
    "result = BetterFrequentWords(text,k)\n",
    "print(result)"
   ]
  },
  {
   "cell_type": "code",
   "execution_count": null,
   "id": "b5a92f21-28c7-4a1c-bd5c-e70bd6d58ba4",
   "metadata": {},
   "outputs": [],
   "source": [
    "input_file = \"inputs/pattern_matching.txt\"\n",
    "linecount = 0\n",
    "pattern =''\n",
    "gnome = ''\n",
    "\n",
    "try:\n",
    "    with open (input_file,'r') as file:\n",
    "        for line in file:\n",
    "            if linecount == 0:\n",
    "                     pattern = line\n",
    "            else:\n",
    "                     gnome = line\n",
    "            linecount = linecount + 1\n",
    "except:\n",
    "    print('Error reading file')\n",
    "\n",
    "\n",
    "\n",
    "result = PatternMatching(pattern.strip(),gnome.strip())\n",
    "\n",
    "print(result)"
   ]
  },
  {
   "cell_type": "code",
   "execution_count": null,
   "id": "0c774d0c-6e83-4e78-9c90-46b6f25fab6a",
   "metadata": {},
   "outputs": [],
   "source": [
    "pattern = \"ATAT\"\n",
    "gnome = \"GATATATGCATATACTTATATT\"\n",
    "result = PatternMatching(pattern,gnome)\n",
    "print(result)\n",
    "   "
   ]
  },
  {
   "cell_type": "code",
   "execution_count": null,
   "id": "be1c9002-f72c-4559-a3d8-f1192286555d",
   "metadata": {},
   "outputs": [],
   "source": [
    "#Finding Positions of CTTGATCAT in Vibrio_Cholerae gnome\n",
    "\n",
    "input_file = \"inputs/Vibrio_cholerae.txt\"\n",
    "linecount = 0\n",
    "pattern ='CTTGATCAT'\n",
    "gnome = ''\n",
    "\n",
    "try:\n",
    "    with open (input_file,'r') as file:\n",
    "        for line in file:\n",
    "            if linecount == 0:\n",
    "                     gnome = line\n",
    "           \n",
    "            linecount = linecount + 1\n",
    "except:\n",
    "    print('Error reading file')\n",
    "\n",
    "\n",
    "\n",
    "result = PatternMatching(pattern.strip(),gnome.strip())\n",
    "\n",
    "print(result)\n"
   ]
  },
  {
   "cell_type": "code",
   "execution_count": null,
   "id": "e4014f13-0e2c-4d88-ab05-b90eef3e4784",
   "metadata": {},
   "outputs": [],
   "source": [
    "text =\"CGGACTCGACAGATGTGAAGAACGACAATGTGAAGACTCGACACGACAGAGTGAAGAGAAGAGGAAACATTGTAA\"\n",
    "k = 5\n",
    "L = 50\n",
    "t = 4\n",
    "clump_string = FindClumps(text,k,L,t)\n",
    "print(clump_string)\n",
    "    "
   ]
  },
  {
   "cell_type": "code",
   "execution_count": null,
   "id": "c5a423b9-329c-4d25-9b42-c3bced982775",
   "metadata": {},
   "outputs": [],
   "source": [
    "s = \"10 25 300\"\n",
    "d = list(map(int,s.split()))\n",
    "print(d[0])"
   ]
  },
  {
   "cell_type": "code",
   "execution_count": null,
   "id": "5de36b4a-2201-451a-86e8-288a36dc68fb",
   "metadata": {},
   "outputs": [],
   "source": [
    "######Finding Clumps##########\n",
    "\n",
    "input_file = \"inputs/ecoli_genome.txt\"\n",
    "linecount = 0\n",
    "gnome = ''\n",
    "k=0\n",
    "L=0\n",
    "t=0\n",
    "controls=''\n",
    "\n",
    "try:\n",
    "    with open (input_file,'r') as file:\n",
    "        for line in file:\n",
    "            if linecount == 0:\n",
    "                     gnome = line.strip()\n",
    "            else:\n",
    "                     controls = line.strip()\n",
    "                     control_list = list(map(int,controls.split()))\n",
    "                     k=control_list[0]\n",
    "                     L= control_list[1]\n",
    "                     t= control_list[2]\n",
    "           \n",
    "            linecount = linecount + 1\n",
    "except:\n",
    "    print('Error reading file')\n",
    "\n",
    "\n",
    "\n",
    "result = FindClumps(gnome,9,500,3,1)\n",
    "\n",
    "print(result)"
   ]
  },
  {
   "cell_type": "code",
   "execution_count": null,
   "id": "3ba2802f-1886-41f3-a692-76f482c83a0d",
   "metadata": {},
   "outputs": [],
   "source": [
    "print(PatternCount(\"GACCATCAAAACTGATAAACTACTTAAAAATCAGT\", \"AAA\"))"
   ]
  },
  {
   "cell_type": "code",
   "execution_count": null,
   "id": "026a3ea3-0056-40c2-8838-a05e50287cb5",
   "metadata": {},
   "outputs": [],
   "source": [
    "print(BetterFrequentWords(\"CGGAGGACTCTAGGTAACGCTTATCAGGTCCATAGGACATTCA\",3))"
   ]
  },
  {
   "cell_type": "code",
   "execution_count": null,
   "id": "868a9fd9-d6a6-408e-9c80-df6cfc57258c",
   "metadata": {},
   "outputs": [],
   "source": [
    "print(ReverseComplement(\"GATTACA\"))"
   ]
  },
  {
   "cell_type": "code",
   "execution_count": null,
   "id": "dab7eccd-8396-4770-b31e-3711f5d8c04e",
   "metadata": {},
   "outputs": [],
   "source": [
    "print(PatternMatching(\"AA\",\"AAACATAGGATCAAC\"))"
   ]
  },
  {
   "cell_type": "code",
   "execution_count": null,
   "id": "78d1098c-339e-43da-9f65-c2aca1a002be",
   "metadata": {},
   "outputs": [],
   "source": [
    "###Finding Minimum Skew from Gnome\n",
    "input_file = \"inputs/inputs.txt\"\n",
    "linecount = 0\n",
    "pattern ='CTTGATCAT'\n",
    "gnome = ''\n",
    "\n",
    "try:\n",
    "    with open (input_file,'r') as file:\n",
    "        for line in file:\n",
    "            if linecount == 0:\n",
    "                     gnome = line\n",
    "           \n",
    "            linecount = linecount + 1\n",
    "except:\n",
    "    print('Error reading file')\n",
    "\n",
    "\n",
    "\n",
    "result = MinimumSkew(gnome.strip())\n",
    "\n",
    "print(result)\n",
    "\n"
   ]
  },
  {
   "cell_type": "code",
   "execution_count": null,
   "id": "9e8f7c38-7aa8-4f55-b36b-5dea1279c43a",
   "metadata": {},
   "outputs": [],
   "source": [
    "#####Calculating Hamming Distance\n",
    "\n",
    "\n",
    "input_file = \"inputs/inputs.txt\"\n",
    "linecount = 0\n",
    "p=''\n",
    "q=''\n",
    "\n",
    "try:\n",
    "    with open (input_file,'r') as file:\n",
    "        for line in file:\n",
    "            if linecount == 0:\n",
    "                     p = line\n",
    "            if linecount == 1:\n",
    "                     q = line\n",
    "           \n",
    "            linecount = linecount + 1\n",
    "except:\n",
    "    print('Error reading file')\n",
    "\n",
    "\n",
    "\n",
    "result = HammingDistance(p.strip(),q.strip())\n",
    "\n",
    "print(result)"
   ]
  },
  {
   "cell_type": "code",
   "execution_count": null,
   "id": "18a31d7e-566f-4ffa-b7b6-62f4017c9d7a",
   "metadata": {},
   "outputs": [],
   "source": [
    "#####Finding Approximate Pattern Matching\n",
    "\n",
    "\n",
    "\n",
    "input_file = \"inputs/inputs.txt\"\n",
    "linecount = 0\n",
    "pattern =''\n",
    "gnome = ''\n",
    "d = 0\n",
    "try:\n",
    "    with open (input_file,'r') as file:\n",
    "        for line in file:\n",
    "            if linecount == 0:\n",
    "                     pattern = line\n",
    "            elif linecount == 1:\n",
    "                     gnome = line\n",
    "            else:\n",
    "                     d = (int)(line.strip())\n",
    "            linecount = linecount + 1\n",
    "except:\n",
    "    print('Error reading file')\n",
    "\n",
    "\n",
    "\n",
    "result = ApproximatePatternMatching(pattern.strip(),gnome.strip(),d)\n",
    "\n",
    "print(result.strip())"
   ]
  },
  {
   "cell_type": "code",
   "execution_count": null,
   "id": "2c590c6b-1705-4422-b3c8-997e198b6dd3",
   "metadata": {},
   "outputs": [],
   "source": [
    "count = ApproximatePatternCount(\"AACAAGCTGATAAACATTTAAAGAG\",\"AAAAA\",2)\n",
    "print(count)"
   ]
  },
  {
   "cell_type": "code",
   "execution_count": null,
   "id": "1e0cf8d6-a2f2-4503-a1cd-d0c212371d8d",
   "metadata": {},
   "outputs": [],
   "source": [
    "#####Calculating Approximate Pattern Count\n",
    "\n",
    "\n",
    "\n",
    "input_file = \"inputs/inputs.txt\"\n",
    "linecount = 0\n",
    "pattern =''\n",
    "gnome = ''\n",
    "d = 0\n",
    "try:\n",
    "    with open (input_file,'r') as file:\n",
    "        for line in file:\n",
    "            if linecount == 0:\n",
    "                     pattern = line\n",
    "            elif linecount == 1:\n",
    "                     gnome = line\n",
    "            else:\n",
    "                     d = (int)(line.strip())\n",
    "            linecount = linecount + 1\n",
    "except:\n",
    "    print('Error reading file')\n",
    "\n",
    "\n",
    "\n",
    "result = ApproximatePatternCount(gnome.strip(),pattern.strip(),d)\n",
    "\n",
    "print(result)"
   ]
  },
  {
   "cell_type": "code",
   "execution_count": null,
   "id": "0303f2e2-2cbb-498a-8d60-045f36ee81cd",
   "metadata": {},
   "outputs": [],
   "source": [
    "#####Finding d-Neighborhood of a Pattern\n",
    "\n",
    "\n",
    "\n",
    "input_file = \"inputs/inputs.txt\"\n",
    "linecount = 0\n",
    "pattern =''\n",
    "\n",
    "d = 0\n",
    "try:\n",
    "    with open (input_file,'r') as file:\n",
    "        for line in file:\n",
    "            if linecount == 0:\n",
    "                     pattern = line\n",
    "            elif linecount == 1:\n",
    "                     d = (int)(line.strip())\n",
    "           \n",
    "                     \n",
    "            linecount = linecount + 1\n",
    "except:\n",
    "    print('Error reading file')\n",
    "\n",
    "\n",
    "\n",
    "result = Neighbors(pattern.strip(),d)\n",
    "print(\" \".join(result))\n",
    "\n"
   ]
  },
  {
   "cell_type": "code",
   "execution_count": 102,
   "id": "ec13396a-953d-4a57-8981-ffba3b57e6b2",
   "metadata": {},
   "outputs": [
    {
     "ename": "NameError",
     "evalue": "name 'text' is not defined",
     "output_type": "error",
     "traceback": [
      "\u001b[0;31m---------------------------------------------------------------------------\u001b[0m",
      "\u001b[0;31mNameError\u001b[0m                                 Traceback (most recent call last)",
      "\u001b[0;32m/var/folders/4s/5d3bkk8j56g7l14h43_qmlt40000gn/T/ipykernel_10979/1622254817.py\u001b[0m in \u001b[0;36m<module>\u001b[0;34m\u001b[0m\n\u001b[0;32m----> 1\u001b[0;31m \u001b[0mresult\u001b[0m \u001b[0;34m=\u001b[0m \u001b[0mFrequentWordsWithMismatches\u001b[0m\u001b[0;34m(\u001b[0m\u001b[0;34m\"AACAAGCTGATAAACATTTAAAGAG\"\u001b[0m\u001b[0;34m,\u001b[0m\u001b[0;36m5\u001b[0m\u001b[0;34m,\u001b[0m \u001b[0;36m1\u001b[0m\u001b[0;34m)\u001b[0m\u001b[0;34m\u001b[0m\u001b[0;34m\u001b[0m\u001b[0m\n\u001b[0m\u001b[1;32m      2\u001b[0m \u001b[0mprint\u001b[0m\u001b[0;34m(\u001b[0m\u001b[0mresult\u001b[0m\u001b[0;34m)\u001b[0m\u001b[0;34m\u001b[0m\u001b[0;34m\u001b[0m\u001b[0m\n",
      "\u001b[0;32m~/Documents/GitHub/bioinformatics/codes/functions.py\u001b[0m in \u001b[0;36mFrequentWordsWithMismatches\u001b[0;34m(Text, k, d)\u001b[0m\n\u001b[1;32m    213\u001b[0m     \u001b[0mpattern_list\u001b[0m \u001b[0;34m=\u001b[0m \u001b[0mlist\u001b[0m\u001b[0;34m(\u001b[0m\u001b[0;34m)\u001b[0m\u001b[0;34m\u001b[0m\u001b[0;34m\u001b[0m\u001b[0m\n\u001b[1;32m    214\u001b[0m     \u001b[0mfrequencyMap\u001b[0m \u001b[0;34m=\u001b[0m \u001b[0;34m{\u001b[0m\u001b[0;34m}\u001b[0m\u001b[0;34m\u001b[0m\u001b[0;34m\u001b[0m\u001b[0m\n\u001b[0;32m--> 215\u001b[0;31m     \u001b[0mindex\u001b[0m \u001b[0;34m=\u001b[0m \u001b[0;36m0\u001b[0m\u001b[0;34m\u001b[0m\u001b[0;34m\u001b[0m\u001b[0m\n\u001b[0m\u001b[1;32m    216\u001b[0m     \u001b[0mtext_len\u001b[0m \u001b[0;34m=\u001b[0m \u001b[0mlen\u001b[0m\u001b[0;34m(\u001b[0m\u001b[0mtext\u001b[0m\u001b[0;34m)\u001b[0m\u001b[0;34m\u001b[0m\u001b[0;34m\u001b[0m\u001b[0m\n\u001b[1;32m    217\u001b[0m     \u001b[0;32mwhile\u001b[0m \u001b[0mindex\u001b[0m \u001b[0;34m<\u001b[0m \u001b[0;34m(\u001b[0m\u001b[0mtext_len\u001b[0m \u001b[0;34m-\u001b[0m \u001b[0mk\u001b[0m\u001b[0;34m)\u001b[0m\u001b[0;34m+\u001b[0m\u001b[0;36m1\u001b[0m\u001b[0;34m:\u001b[0m\u001b[0;34m\u001b[0m\u001b[0;34m\u001b[0m\u001b[0m\n",
      "\u001b[0;31mNameError\u001b[0m: name 'text' is not defined"
     ]
    }
   ],
   "source": [
    "result = FrequentWordsWithMismatches(\"AACAAGCTGATAAACATTTAAAGAG\",5, 1)\n",
    "print(result)"
   ]
  },
  {
   "cell_type": "code",
   "execution_count": null,
   "id": "9b13e81c-2b9a-44ab-b8fd-012c4f794bb9",
   "metadata": {},
   "outputs": [],
   "source": []
  }
 ],
 "metadata": {
  "kernelspec": {
   "display_name": "Python 3 (ipykernel)",
   "language": "python",
   "name": "python3"
  },
  "language_info": {
   "codemirror_mode": {
    "name": "ipython",
    "version": 3
   },
   "file_extension": ".py",
   "mimetype": "text/x-python",
   "name": "python",
   "nbconvert_exporter": "python",
   "pygments_lexer": "ipython3",
   "version": "3.9.7"
  }
 },
 "nbformat": 4,
 "nbformat_minor": 5
}
